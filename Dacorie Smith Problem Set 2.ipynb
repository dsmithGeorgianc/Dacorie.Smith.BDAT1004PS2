{
 "cells": [
  {
   "cell_type": "code",
   "execution_count": null,
   "id": "15762cab-c5c1-43ee-b8e2-a1838aefc9b9",
   "metadata": {},
   "outputs": [],
   "source": [
    "Problem Set 2\n",
    "This problem set is based on lectures 4,5 and 6. \n",
    "For a complete list of topics please consult page 2 of the course syllabus.\n",
    "Please consult the “Instructions for Problem Set Submissions” document under\n",
    "course information before submitting your assignment."
   ]
  },
  {
   "cell_type": "code",
   "execution_count": null,
   "id": "ae709b69-5d8e-4a4c-a83a-6d2fc1b10d4e",
   "metadata": {},
   "outputs": [],
   "source": [
    "Question 1\n",
    "Consider the following Python module:\n",
    "a=0\n",
    "def b():\n",
    "    global a\n",
    "    a = c(a)\n",
    "    \n",
    "def c(a):\n",
    "    return a + 2\n",
    "\n",
    "After importing the module into the interpreter, you execute:\n",
    "    \n",
    ">>> b()\n",
    ">>> b()\n",
    ">>> b()\n",
    ">>> a\n"
   ]
  },
  {
   "cell_type": "code",
   "execution_count": null,
   "id": "a8ef345c-4a07-4413-a538-78d1caf70fcc",
   "metadata": {},
   "outputs": [],
   "source": [
    "#Answer for Question 1\n",
    "What value is displayed when the last expression (a) is evaluated?\n",
    "Explain your answer by indicating what happens in every executed statement.\n",
    "\n",
    "a = 6\n",
    "\n",
    "Explain \n",
    "\n",
    "b() is called:\n",
    "    Global keyword means the variable is outside of the function\n",
    "    c(a) is called with a = 0, \n",
    "    c(a) returns 2.\n",
    "    a =  2.\n",
    "b() is called again:\n",
    "    c(a) is called with a = 2\n",
    "    c(a) returns 4.\n",
    "    a is now set to 4.\n",
    "b() is called again:\n",
    "    c(a) is called with a being  \n",
    "    so c(a) returns 6.\n",
    "    \n",
    "a is now set to 6.\n"
   ]
  },
  {
   "cell_type": "code",
   "execution_count": null,
   "id": "db93a84b-e93d-48f6-a421-3e1b9b84f8d9",
   "metadata": {},
   "outputs": [],
   "source": [
    "Question 2\n",
    "\n",
    "fileLength(), given to you,takes the name of a file as input and returns\n",
    "the length of the file:\n",
    "    \n",
    ">>> fileLength('midterm.py')\n",
    "284\n",
    ">>> fileLength('idterm.py')\n",
    "Traceback (most recent call last):\n",
    "  File \"<pyshell#34>\", line 1, in <module>\n",
    "    fileLength('idterm.py')\n",
    "  File \"/Users/me/midterm.py\", line 3, in fileLength\n",
    "    infile = open(filename)\n",
    "FileNotFoundError: [Errno 2] No such file or directory:\n",
    "'idterm.py'\n",
    "    \n",
    "As shown above, if the file cannot be found by the interpreter or if it cannot be read\n",
    "as a text file, an exception will be raised. Modify function\n",
    "fileLenght() so that afriendly message is printed instead:\n",
    "    \n",
    ">>> fileLength('midterm.py')\n",
    "358\n",
    ">>> fileLength('idterm.py')\n",
    "File idterm.py not found."
   ]
  },
  {
   "cell_type": "code",
   "execution_count": 9,
   "id": "4865c972-9be8-4e06-8d73-7cb30a1d6464",
   "metadata": {
    "tags": []
   },
   "outputs": [
    {
     "name": "stdout",
     "output_type": "stream",
     "text": [
      "5\n",
      "Error: The file FileLeng.txt was not found.\n",
      "None\n"
     ]
    }
   ],
   "source": [
    "#answer question 2\n",
    "def fileLength(fileName):\n",
    "    number_of_lines = 0\n",
    "    try:\n",
    "        # Read the file\n",
    "        with open(fileName, 'r') as file:\n",
    "            number_of_lines = len(file.readlines())\n",
    "        #print(f\"Number of lines in the file: {number_of_lines}\")\n",
    "\n",
    "        return number_of_lines\n",
    "        # If we didn't find the currency, raise an error\n",
    "       \n",
    "    except FileNotFoundError:\n",
    "        print(f\"Error: The file {fileName} was not found.\")\n",
    "    except Exception as e:\n",
    "        print(f\"An error occurred: {e}\")\n",
    "        \n",
    "#fileLength(\"FileLength.txt\")\n",
    "fileLength(\"FileLeng.txt\")"
   ]
  },
  {
   "cell_type": "code",
   "execution_count": null,
   "id": "27dccb39-c7a4-48fb-8141-42928cd9b527",
   "metadata": {
    "tags": []
   },
   "outputs": [],
   "source": [
    "Question 3\n",
    "Write a class named Marsupial that can be used as shown below:\n",
    "    \n",
    ">>> m = Marsupial()\n",
    ">>> m.put_in_pouch('doll')\n",
    ">>> m.put_in_pouch('firetruck')\n",
    ">>> m.put_in_pouch('kitten')\n",
    ">>> m.pouch_contents()\n",
    "['doll', 'firetruck', 'kitten']\n",
    "\n",
    "Now write a class named Kangaroo as a subclass of Marsupial that inherits all the\n",
    "attributes of Marsupial and also:\n",
    "    a. extends the Marsupial __init__ constructor to take, as input, the\n",
    "    coordinates x and y of the Kangaroo object,\n",
    "    b. supports method jump that takes number values dx and dy as input and\n",
    "    moves the kangaroo by dx units along the x-axis and by dy units along the y-\n",
    "    axis, and\n",
    "    c. overloads the __str__ operator so it behaves as shown below\n",
    "    \n",
    ">>> k = Kangaroo(0,0)\n",
    ">>> print(k)\n",
    "I am a Kangaroo located at coordinates (0,0)\n",
    ">>> k.put_in_pouch('doll')\n",
    ">>> k.put_in_pouch('firetruck')\n",
    ">>> k.put_in_pouch('kitten')\n",
    ">>> k.pouch_contents()\n",
    "['doll', 'firetruck', 'kitten']\n",
    ">>> k.jump(1,0)\n",
    ">>> k.jump(1,0)\n",
    ">>> k.jump(1,0)\n",
    ">>> print(k)\n",
    "I am a Kangaroo located at coordinates (3,0)"
   ]
  },
  {
   "cell_type": "code",
   "execution_count": 17,
   "id": "ff6e2028-0d93-4035-954a-2924c5f94713",
   "metadata": {},
   "outputs": [
    {
     "name": "stdout",
     "output_type": "stream",
     "text": [
      "['doll', 'firetruck', 'kitten']\n",
      "I am a Kangaroo located at coordinates (0,0)\n",
      "['doll', 'firetruck', 'kitten', 'doll', 'firetruck', 'kitten']\n",
      "I am a Kangaroo located at coordinates (3,0)\n"
     ]
    }
   ],
   "source": [
    "#answer question 3\n",
    "class Marsupial:\n",
    "    pouch = []\n",
    "    \n",
    "    def put_in_pouch(self,item):\n",
    "        self.pouch.append(item)\n",
    "    def pouch_contents(self):\n",
    "        print(self.pouch)\n",
    "\n",
    "m = Marsupial()\n",
    "m.put_in_pouch('doll')\n",
    "m.put_in_pouch('firetruck')\n",
    "m.put_in_pouch('kitten')\n",
    "m.pouch_contents()\n",
    "\n",
    "class Kangaroo(Marsupial):\n",
    "    def __init__(self, x, y):\n",
    "        # Call the parent class's __init__ method\n",
    "        super().__init__()\n",
    "        # Add an additional attribute for Kangaroo\n",
    "        self.x = x\n",
    "        self.y = y\n",
    "    \n",
    "    def jump(self,dx,dy):\n",
    "        self.x = self.x + dx\n",
    "        self.y = self.y + dy\n",
    "        \n",
    "    def __str__(self):\n",
    "        return f\"I am a Kangaroo located at coordinates ({self.x},{self.y})\"\n",
    "\n",
    "k = Kangaroo(0,0)\n",
    "print(k)\n",
    "#I am a Kangaroo located at coordinates (0,0)\n",
    "k.put_in_pouch('doll')\n",
    "k.put_in_pouch('firetruck')\n",
    "k.put_in_pouch('kitten')\n",
    "k.pouch_contents()\n",
    "#['doll', 'firetruck', 'kitten']\n",
    "k.jump(1,0)\n",
    "k.jump(1,0)\n",
    "k.jump(1,0)\n",
    "print(k)\n",
    "#I am a Kangaroo located at coordinates (3,0)"
   ]
  },
  {
   "cell_type": "code",
   "execution_count": null,
   "id": "e3f88c80-0e61-4e77-86ab-5ac114bdc8f8",
   "metadata": {},
   "outputs": [],
   "source": [
    "Question 4\n",
    "    Write function collatz() that takes a positive integer x as input and prints the\n",
    "    Collatz sequence starting at x. A Collatz sequence is obtained by repeatedly applying\n",
    "    this rule to the previous number x in the sequence:\n",
    "        \n",
    "    x = { 𝑥/2 𝑖𝑓 𝑥 𝑖𝑠 𝑒𝑣𝑒𝑛\n",
    "    3𝑥 + 1 𝑖𝑓 𝑥 𝑖𝑠 𝑜𝑑𝑑\n",
    "         \n",
    "    Your function should stop when the sequence gets to number 1. Your\n",
    "    implementation must be recursive, without any loops.\n",
    "\n",
    ">>> collatz(1)\n",
    "1\n",
    ">>> collatz(10)\n",
    "10\n",
    "5\n",
    "16\n",
    "8\n",
    "4\n",
    "2\n",
    "1"
   ]
  },
  {
   "cell_type": "code",
   "execution_count": 34,
   "id": "375417f2-2d79-48db-bfe4-1ea443887971",
   "metadata": {
    "tags": []
   },
   "outputs": [
    {
     "name": "stdout",
     "output_type": "stream",
     "text": [
      "10\n",
      "5.0\n",
      "16.0\n",
      "8.0\n",
      "4.0\n",
      "2.0\n"
     ]
    }
   ],
   "source": [
    "#Answer Question 4\n",
    "def collatz(number): \n",
    "    print(number)\n",
    "    if(number == 1):\n",
    "        return;\n",
    "    elif(number % 2 == 0):\n",
    "        number = number / 2 \n",
    "        #print(number)\n",
    "        if(number > 1):\n",
    "            collatz(number)\n",
    "        else:\n",
    "            return \n",
    "    elif(number % 2 != 0 ):\n",
    "        number= (3*number)+1\n",
    "        #print(number)\n",
    "        if(number > 1):\n",
    "            collatz(number)\n",
    "        else:\n",
    "            return \n",
    "        \n",
    "collatz(10)"
   ]
  },
  {
   "cell_type": "code",
   "execution_count": null,
   "id": "723d3214-feb0-46f3-b7bb-75ed848af328",
   "metadata": {},
   "outputs": [],
   "source": [
    "Question 5\n",
    "Write a recursive method binary() that takes a non-negative\n",
    "integer n and prints the binary representation of integer n.\n",
    ">>> binary(0)\n",
    "0\n",
    ">>> binary(1)\n",
    "1\n",
    ">>> binary(3)\n",
    "11\n",
    ">>> binary(9)\n",
    "1001"
   ]
  },
  {
   "cell_type": "code",
   "execution_count": 93,
   "id": "59509215-7419-4bf6-8558-651c7b002eb0",
   "metadata": {
    "tags": []
   },
   "outputs": [
    {
     "data": {
      "text/plain": [
       "'1001'"
      ]
     },
     "execution_count": 93,
     "metadata": {},
     "output_type": "execute_result"
    }
   ],
   "source": [
    "#answer Question 5\n",
    "def binary(number):\n",
    "    # Base case: if n is 0 or 1\n",
    "    if number == 0:\n",
    "        return '0'\n",
    "    if number == 1:\n",
    "        return '1'\n",
    "    \n",
    "    # Recursive case\n",
    "    # python  to divide without the remainder //\n",
    "    return binary(number // 2) + str(number % 2)\n",
    "\n",
    "#binary(3)\n",
    "binary(9)"
   ]
  },
  {
   "cell_type": "code",
   "execution_count": null,
   "id": "765812b8-ce7a-4f94-93c4-4926cbbc0e5b",
   "metadata": {},
   "outputs": [],
   "source": [
    "Question 6\n",
    "Implement a class named HeadingParser that can be used to parse an HTML\n",
    "document, and retrieve and print all the headings in the document. You should\n",
    "implement your class as a subclass of HTMLParser, defined in Standard Library\n",
    "module html.parser. When fed a string containing HTML code, your class should\n",
    "print the headings, one per line and in the order in which they appear in the\n",
    "document. Each heading should be indented as follows: an h1 heading should have\n",
    "indentation 0, and h2 heading should have indentation 1, etc. Test your\n",
    "implementation using w3c.html.\n",
    "\n",
    ">>> infile = open('w3c.html')\n",
    ">>> content = infile.read()\n",
    ">>> infile.close()\n",
    ">>> hp = HeadingParser()\n",
    ">>> hp.feed(content)\n",
    "\n",
    "W3C Mission\n",
    "Principles"
   ]
  },
  {
   "cell_type": "code",
   "execution_count": 103,
   "id": "d0d30ce7-460e-4d86-9871-037766c46048",
   "metadata": {
    "tags": []
   },
   "outputs": [
    {
     "name": "stdout",
     "output_type": "stream",
     "text": [
      "W3C Mission\n",
      "    Principles\n"
     ]
    }
   ],
   "source": [
    "#Anwser 6\n",
    "from html.parser import HTMLParser\n",
    "\n",
    "class HeadingParser(HTMLParser):\n",
    "    def __init__(self):\n",
    "        super().__init__()\n",
    "        self.in_heading = False\n",
    "        self.heading_level = 0\n",
    "        \n",
    "    def handle_starttag(self, tag, attrs):\n",
    "        if tag.startswith('h') and tag[1:].isdigit():\n",
    "            self.in_heading = True\n",
    "            self.heading_level = int(tag[1:])\n",
    "\n",
    "    def handle_endtag(self, tag):\n",
    "        if self.in_heading and tag.startswith('h') and tag[1:].isdigit():\n",
    "            self.in_heading = False\n",
    "\n",
    "    def handle_data(self, data):\n",
    "        if self.in_heading:\n",
    "            # Indent based on the heading level\n",
    "            indentation = '    ' * (self.heading_level - 1)\n",
    "            print(f\"{indentation}{data.strip()}\")\n",
    "\n",
    "\n",
    "infile = open('w3c.html') \n",
    "content = infile.read()\n",
    "infile.close()\n",
    "hp = HeadingParser()\n",
    "hp.feed(content)"
   ]
  },
  {
   "cell_type": "code",
   "execution_count": null,
   "id": "42b785ee-8c6b-431d-acb9-65c2d82d6b58",
   "metadata": {},
   "outputs": [],
   "source": [
    "Question 7\n",
    "Implement recursive function webdir() that takes as input: a URL (as a string) and\n",
    "non-negative integers depth and indent. Your function should visit every web\n",
    "page reachable from the starting URL web page in depth clicks or less, and print\n",
    "each web page's URL. As shown below, indentation, specified by indent, should\n",
    "be used to indicate the depth of a URL.\n",
    ">>>\n",
    "webdir('http://reed.cs.depaul.edu/lperkovic/csc242/test1.html'\n",
    ", 2, 0)\n",
    "    http://reed.cs.depaul.edu/lperkovic/csc242/test1.html\n",
    "    http://reed.cs.depaul.edu/lperkovic/csc242/test2.html\n",
    "    http://reed.cs.depaul.edu/lperkovic/csc242/test4.html\n",
    "    http://reed.cs.depaul.edu/lperkovic/csc242/test3.html\n",
    "    http://reed.cs.depaul.edu/lperkovic/csc242/test4.html"
   ]
  },
  {
   "cell_type": "code",
   "execution_count": 114,
   "id": "3fc360fa-6528-46cf-ac21-c4a3ea7fbb87",
   "metadata": {
    "tags": []
   },
   "outputs": [
    {
     "name": "stdout",
     "output_type": "stream",
     "text": [
      "https://www.google.com/\n",
      "    https://www.google.com/imghp?hl=en&tab=wi\n",
      "    https://maps.google.ca/maps?hl=en&tab=wl\n",
      "    https://play.google.com/?hl=en&tab=w8\n",
      "    https://www.youtube.com/?tab=w1\n",
      "    https://news.google.com/?tab=wn\n",
      "    https://mail.google.com/mail/?tab=wm\n",
      "    https://drive.google.com/?tab=wo\n",
      "    https://www.google.ca/intl/en/about/products?tab=wh\n",
      "    http://www.google.ca/history/optout?hl=en\n",
      "    https://www.google.com//preferences?hl=en\n",
      "    https://accounts.google.com/ServiceLogin?hl=en&passive=true&continue=https://www.google.com/&ec=GAZAAQ\n",
      "    https://www.google.com//advanced_search?hl=en-CA&authuser=0\n",
      "    https://www.google.com/setprefs?sig=0_c3xQ0wqXAqu-9B3-p0zBC4d990I%3D&hl=fr&source=homepage&sa=X&ved=0ahUKEwiJjvSajvyBAxXCIjQIHXJbDNcQ2ZgBCAU\n",
      "    https://www.google.com//intl/en/ads/\n",
      "    https://www.google.com//services/\n",
      "    https://www.google.com//intl/en/about.html\n",
      "    https://www.google.com/setprefdomain?prefdom=CA&prev=https://www.google.ca/&sig=K__Qs3j7pbCZXfIDkf1E_x49vUG1k%3D\n",
      "    https://www.google.com//intl/en/policies/privacy/\n",
      "    https://www.google.com//intl/en/policies/terms/\n"
     ]
    }
   ],
   "source": [
    "#answer QUestion 7\n",
    "import requests\n",
    "from bs4 import BeautifulSoup\n",
    "\n",
    "def webdir(url, depth, indent):\n",
    "    if depth < 0:\n",
    "        return\n",
    "\n",
    "    # Fetch the web page content\n",
    "    try:\n",
    "        response = requests.get(url)\n",
    "        response.raise_for_status()\n",
    "    except requests.exceptions.RequestException as e:\n",
    "        print(f\"Error fetching URL '{url}': {e}\")\n",
    "        return\n",
    "\n",
    "    soup = BeautifulSoup(response.content, 'html.parser')\n",
    "    \n",
    "    # Print the URL with appropriate indentation\n",
    "    print(' ' * indent + url)\n",
    "\n",
    "    if depth > 0:\n",
    "        # Find all links on the page with 'href' attribute\n",
    "        links_on_page = soup.find_all('a', href=True)\n",
    "\n",
    "        # Initialize an index variable\n",
    "        index = 0\n",
    "\n",
    "        # Use a while loop to iterate through links on the page\n",
    "        while index < len(links_on_page):\n",
    "            # Extract the 'href' attribute from the link at the current index\n",
    "            next_url = links_on_page[index]['href']\n",
    "\n",
    "            # Check if the URL is complete (starts with 'http')\n",
    "            if not next_url.startswith('http'):\n",
    "                next_url = url + next_url\n",
    "\n",
    "            # Recursively visit the next URL with reduced depth and increased indentation\n",
    "            webdir(next_url, depth - 1, indent + 4)\n",
    "\n",
    "            # Increment the index to move to the next link\n",
    "            index += 1\n",
    "\n",
    "webdir('https://www.google.com/', 1, 0)"
   ]
  },
  {
   "cell_type": "code",
   "execution_count": null,
   "id": "be2b4caf-1719-4bce-8f8f-0131182cf3a3",
   "metadata": {},
   "outputs": [],
   "source": [
    "Question 8\n",
    "Write SQL queries on the below database table that return:\n",
    "a) All the temperature data.\n",
    "b) All the cities, but without repetition.\n",
    "c) All the records for India.\n",
    "d) All the Fall records.\n",
    "e) The city, country, and season for which the average rainfall is between 200\n",
    "and 400 millimeters.\n",
    "f) The city and country for which the average Fall temperature is above 20\n",
    "degrees, in increasing temperature order.\n",
    "g) The total annual rainfall for Cairo.\n",
    "h) The total rainfall for each season.\n",
    "\n",
    "\n",
    "Answer:\n",
    "a) All the temperature data.\n",
    "SELECT Temperature FROM WeatherData;\n",
    "\n",
    "b) All the cities, but without repetition.\n",
    "SELECT DISTINCT City FROM WeatherData;\n",
    "\n",
    "c) All the records for India.\n",
    "SELECT * FROM WeatherData WHERE Country = 'India';\n",
    "\n",
    "d) All the Fall records.\n",
    "SELECT * FROM WeatherData WHERE Season = 'Fall';\n",
    "\n",
    "e) The city, country, and season for which the average rainfall is between 200\n",
    "and 400 millimeters.\n",
    "SELECT City, Country, Season FROM WeatherData GROUP BY City, Country, Season HAVING AVG(Rainfall) BETWEEN 200 AND 400;\n",
    "\n",
    "f) The city and country for which the average Fall temperature is above 20\n",
    "degrees, in increasing temperature order.\n",
    "SELECT City, Country FROM WeatherData WHERE Season = 'Fall' GROUP BY City, Country HAVING AVG(Temperature) > 20 ORDER BY AVG(Temperature) ASC;\n",
    "\n",
    "g) The total annual rainfall for Cairo.\n",
    "SELECT SUM(Rainfall) AS TotalRainfall FROM WeatherData WHERE City = 'Cairo';\n",
    "\n",
    "\n",
    "h) The total rainfall for each season.\n",
    "SELECT Season, SUM(Rainfall) AS TotalRainfall FROM WeatherData GROUP BY Season;\n",
    "\n"
   ]
  },
  {
   "cell_type": "code",
   "execution_count": null,
   "id": "acb9339e-860c-42d4-bafd-bc282f9c9d9a",
   "metadata": {},
   "outputs": [],
   "source": [
    "Question 9\n",
    ". Suppose list words is defined as follows:\n",
    ">>> words = ['The', 'quick', 'brown', 'fox', 'jumps', 'over','the', 'lazy', 'dog']\n",
    "\n",
    "Write list comprehension expressions that use list words and generate the following\n",
    "lists:\n",
    "    \n",
    "a) ['THE', 'QUICK', 'BROWN', 'FOX', 'JUMPS', 'OVER', 'THE',\n",
    "'LAZY', 'DOG']\n",
    "\n",
    "b) ['the', 'quick', 'brown', 'fox', 'jumps', 'over', 'the',\n",
    "'lazy', 'dog']\n",
    "\n",
    "c) [3, 5, 5, 3, 5, 4, 3, 4, 3] (the list of lengths of words in list\n",
    "words).\n",
    "\n",
    "d) [['THE', 'the', 3], ['QUICK', 'quick', 5], ['BROWN',\n",
    "'brown', 5], ['FOX', 'fox', 3], ['JUMPS', 'jumps', 5],\n",
    "['OVER', 'over', 4], ['THE', 'the', 3], ['LAZY', 'lazy',\n",
    "4], ['DOG', 'dog', 3]] \n",
    "\n",
    "(the list containing a list for every word of list\n",
    "words, where each list contains the word in uppercase and lowercase and the\n",
    "length of the word.)\n",
    "\n",
    "e) ['The', 'quick', 'brown', 'fox', 'jumps', 'over', 'the',\n",
    "'lazy', 'dog'] (the list of words in list words containing 4 or more\n",
    "characters.)"
   ]
  },
  {
   "cell_type": "code",
   "execution_count": 110,
   "id": "729b8fbb-2b05-45d5-9f5b-bfff51f9f2bb",
   "metadata": {
    "tags": []
   },
   "outputs": [
    {
     "name": "stdout",
     "output_type": "stream",
     "text": [
      "a) Uppercase words: ['THE', 'QUICK', 'BROWN', 'FOX', 'JUMPS', 'OVER', 'THE', 'LAZY', 'DOG']\n",
      "b) Lowercase words: ['the', 'quick', 'brown', 'fox', 'jumps', 'over', 'the', 'lazy', 'dog']\n",
      "c) Length of words: [3, 5, 5, 3, 5, 4, 3, 4, 3]\n",
      "d) Uppercase, lowercase, and length of words in sublists: [['THE', 'the', 3], ['QUICK', 'quick', 5], ['BROWN', 'brown', 5], ['FOX', 'fox', 3], ['JUMPS', 'jumps', 5], ['OVER', 'over', 4], ['THE', 'the', 3], ['LAZY', 'lazy', 4], ['DOG', 'dog', 3]]\n",
      "e) Words with 4 or more characters: ['quick', 'brown', 'jumps', 'over', 'lazy']\n"
     ]
    }
   ],
   "source": [
    "#Answer Question 9 \n",
    "words = ['The', 'quick', 'brown', 'fox', 'jumps', 'over', 'the', 'lazy', 'dog']\n",
    "\n",
    "# a) Uppercase words\n",
    "uppercase_words = [word.upper() for word in words]\n",
    "print(\"Uppercase words:\", uppercase_words)\n",
    "\n",
    "# b) Lowercase words\n",
    "lowercase_words = [word.lower() for word in words]\n",
    "print(\"Lowercase words:\", lowercase_words)\n",
    "\n",
    "# c) Length of words\n",
    "word_lengths = [len(word) for word in words]\n",
    "print(\" Length of words:\", word_lengths)\n",
    "\n",
    "# d) Uppercase, lowercase, and length of words in sublists\n",
    "word_info = [[word.upper(), word.lower(), len(word)] for word in words]\n",
    "print(\"Uppercase, lowercase, and length of words in sublists:\", word_info)\n",
    "\n",
    "# e) Words with 4 or more characters\n",
    "words_4_or_more = [word for word in words if len(word) >= 4]\n",
    "print(\"e) Words with 4 or more characters:\", words_4_or_more)"
   ]
  },
  {
   "cell_type": "code",
   "execution_count": null,
   "id": "21740e63-3c87-4f79-b525-0acc2b35e65b",
   "metadata": {},
   "outputs": [],
   "source": []
  }
 ],
 "metadata": {
  "kernelspec": {
   "display_name": "Python 3 (ipykernel)",
   "language": "python",
   "name": "python3"
  },
  "language_info": {
   "codemirror_mode": {
    "name": "ipython",
    "version": 3
   },
   "file_extension": ".py",
   "mimetype": "text/x-python",
   "name": "python",
   "nbconvert_exporter": "python",
   "pygments_lexer": "ipython3",
   "version": "3.11.4"
  }
 },
 "nbformat": 4,
 "nbformat_minor": 5
}
